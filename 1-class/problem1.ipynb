{
 "cells": [
  {
   "cell_type": "markdown",
   "metadata": {},
   "source": [
    "1. 필요 모듈 불러오기"
   ]
  },
  {
   "cell_type": "code",
   "execution_count": null,
   "metadata": {},
   "outputs": [],
   "source": [
    "import numpy as np                  \n",
    "import pandas as pd                 \n",
    "import matplotlib.pyplot as plt     \n",
    "                                    \n",
    "import torch                        \n",
    "import torch.nn as nn               \n",
    "import torch.optim as optim         \n",
    "import torch.nn.init as init        "
   ]
  },
  {
   "cell_type": "markdown",
   "metadata": {},
   "source": [
    "2. 데이터셋 불러오기"
   ]
  },
  {
   "cell_type": "code",
   "execution_count": null,
   "metadata": {},
   "outputs": [],
   "source": [
    "x_train = torch.linspace(0, 100, steps=20).reshape(-1, 1)\n",
    "y_train = 3 * x_train + 10 + torch.randn(x_train.size()) * 5  # y = 3x + 10 + 노이즈"
   ]
  },
  {
   "cell_type": "markdown",
   "metadata": {},
   "source": [
    "3. 모델 정의"
   ]
  },
  {
   "cell_type": "code",
   "execution_count": null,
   "metadata": {},
   "outputs": [],
   "source": [
    "class LinearRegressionModel(nn.Module):        \n",
    "    def __init__(self):\n",
    "        super(LinearRegressionModel, self).__init__()\n",
    "        self.linear = nn.Linear(1, 1)  # Wx + b\n",
    "        init.constant_(self.linear.weight, 1.0)  # 가중치를 0.5로 초기화\n",
    "        init.constant_(self.linear.bias, 1.0)    # 편향을 1.0으로 초기화\n",
    "\n",
    "    def forward(self, x):\n",
    "        return self.linear(x) # Wx + b를 계산"
   ]
  },
  {
   "cell_type": "code",
   "execution_count": null,
   "metadata": {},
   "outputs": [],
   "source": []
  },
  {
   "cell_type": "code",
   "execution_count": 199,
   "metadata": {},
   "outputs": [],
   "source": [
    "model = LinearRegressionModel()"
   ]
  },
  {
   "cell_type": "markdown",
   "metadata": {},
   "source": [
    "4. 손실함수 정의\n",
    "5. 최적화 방법 정의"
   ]
  },
  {
   "cell_type": "code",
   "execution_count": null,
   "metadata": {},
   "outputs": [],
   "source": [
    "criterion = nn.MSELoss()  # Cost Function \n",
    "optimizer = optim.SGD(model.parameters(), lr=0.0001) # lr(하습률) = 0.0001"
   ]
  },
  {
   "cell_type": "markdown",
   "metadata": {},
   "source": [
    "6. 학습 과정"
   ]
  },
  {
   "cell_type": "code",
   "execution_count": null,
   "metadata": {},
   "outputs": [],
   "source": [
    "epochs = 100  #학습 횟수\n",
    "for epoch in range(epochs):\n",
    "    # 순전파\n",
    "    predictions = model(x_train)  # ŷ = Wx + b\n",
    "    loss = criterion(predictions, y_train)  # 손실계산\n",
    "    \n",
    "    # 역전파\n",
    "    optimizer.zero_grad()  # Clear the gradients\n",
    "    loss.backward()  # ∂costF/∂W, ∂costF/∂b 계산\n",
    "    optimizer.step()  # W, b값 업데이트 W = W - η * ∂costF/∂W, b =  b - η * ∂costF/∂b"
   ]
  },
  {
   "cell_type": "code",
   "execution_count": 203,
   "metadata": {},
   "outputs": [
    {
     "name": "stdout",
     "output_type": "stream",
     "text": [
      "최종 W 값: 3.135556936264038\n",
      "최종 b 값: 1.090395450592041\n"
     ]
    }
   ],
   "source": [
    "W = model.linear.weight.item()\n",
    "b = model.linear.bias.item()\n",
    "print(f\"최종 W 값: {W}\")\n",
    "print(f\"최종 b 값: {b}\")"
   ]
  },
  {
   "cell_type": "code",
   "execution_count": 209,
   "metadata": {},
   "outputs": [
    {
     "data": {
      "image/png": "[encoded data removed]",
      "text/plain": [
       "<Figure size 640x480 with 1 Axes>"
      ]
     },
     "metadata": {},
     "output_type": "display_data"
    }
   ],
   "source": [
    "plt.figure()\n",
    "plt.scatter(x_train, y_train, label='Data Points')\n",
    "plt.plot([0,100], [W*0 + b, W*100 + b])\n",
    "plt.show()"
   ]
  },
  {
   "cell_type": "code",
   "execution_count": null,
   "metadata": {},
   "outputs": [],
   "source": []
  }
 ],
 "metadata": {
  "kernelspec": {
   "display_name": "Python 3",
   "language": "python",
   "name": "python3"
  },
  "language_info": {
   "codemirror_mode": {
    "name": "ipython",
    "version": 3
   },
   "file_extension": ".py",
   "mimetype": "text/x-python",
   "name": "python",
   "nbconvert_exporter": "python",
   "pygments_lexer": "ipython3",
   "version": "3.11.9"
  }
 },
 "nbformat": 4,
 "nbformat_minor": 2
}
