{
 "cells": [
  {
   "cell_type": "code",
   "execution_count": null,
   "metadata": {
    "vscode": {
     "languageId": "plaintext"
    }
   },
   "outputs": [],
   "source": [
    "import tensorflow as tf\n",
    "from tensorflow.keras import layers\n",
    "from sklearn.model_selection import train_test_split\n",
    "from sklearn.preprocessing import StandardScaler\n",
    "import numpy as np\n",
    "\n",
    "# 1. 데이터 로드\n",
    "from tensorflow.keras.datasets import boston_housing\n",
    "(x_train, y_train), (x_test, y_test) = boston_housing.load_data()\n",
    "\n",
    "# 2. 데이터 전처리\n",
    "scaler = StandardScaler()\n",
    "x_train = scaler.fit_transform(x_train)  # 입력 데이터를 정규화\n",
    "x_test = scaler.transform(x_test)\n",
    "\n",
    "# 3. 모델 정의\n",
    "model = tf.keras.Sequential([\n",
    "    layers.Dense(64, activation='relu', input_shape=(x_train.shape[1],)),  # 입력 특성 수에 따라 설정\n",
    "    layers.Dense(32, activation='relu'),\n",
    "    layers.Dense(1)  # 출력이 하나(집값)인 회귀 문제\n",
    "])\n",
    "\n",
    "# 4. 모델 컴파일\n",
    "model.compile(optimizer='adam', loss='mse', metrics=['mae'])  # 손실 함수: Mean Squared Error (MSE)\n",
    "\n",
    "# 5. 모델 학습\n",
    "print(\"모델 학습 시작\")\n",
    "model.fit(x_train, y_train, epochs=50, batch_size=32, verbose=1)\n",
    "print(\"모델 학습 완료\")\n",
    "\n",
    "# 6. 모델 평가\n",
    "loss, mae = model.evaluate(x_test, y_test, verbose=0)\n",
    "print(f\"테스트 데이터 평균 절대 오차(MAE): {mae:.2f}\")\n",
    "\n",
    "# 7. 예측\n",
    "predictions = model.predict(x_test[:5])  # 테스트 데이터 중 5개 샘플 예측\n",
    "for i, prediction in enumerate(predictions):\n",
    "    print(f\"실제 집값: {y_test[i]:.2f}, 예측 집값: {prediction[0]:.2f}\")\n"
   ]
  }
 ],
 "metadata": {
  "language_info": {
   "name": "python"
  }
 },
 "nbformat": 4,
 "nbformat_minor": 2
}
