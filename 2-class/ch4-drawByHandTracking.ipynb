{
 "cells": [
  {
   "cell_type": "code",
   "execution_count": 2,
   "metadata": {},
   "outputs": [],
   "source": [
    "import cv2\n",
    "import mediapipe as mp\n",
    "\n",
    "# Mediapipe 핸드 모듈 초기화\n",
    "mp_hands = mp.solutions.hands\n",
    "mp_draw = mp.solutions.drawing_utils\n",
    "hands = mp_hands.Hands(min_detection_confidence=0.5, min_tracking_confidence=0.5)\n",
    "\n",
    "# 웹캠 캡처 초기화\n",
    "cap = cv2.VideoCapture(0)\n",
    "\n",
    "while cap.isOpened():\n",
    "    ret, frame = cap.read()\n",
    "    if not ret:\n",
    "        break\n",
    "    \n",
    "    # 프레임 색상 변환(BGR -> RGB)\n",
    "    rgb_frame = cv2.cvtColor(frame, cv2.COLOR_BGR2RGB)\n",
    "    result = hands.process(rgb_frame)\n",
    "    \n",
    "    # 손 인식 데이터가 있을 경우\n",
    "    if result.multi_hand_landmarks:\n",
    "        for hand_landmarks in result.multi_hand_landmarks:\n",
    "            # 손 랜드마크를 화면에 그리기\n",
    "            mp_draw.draw_landmarks(frame, hand_landmarks, mp_hands.HAND_CONNECTIONS)\n",
    "            \n",
    "            # 각 랜드마크 좌표 계산\n",
    "            h, w, c = frame.shape  # 영상의 높이, 너비\n",
    "            index_finger_tip = hand_landmarks.landmark[8]  # 검지 끝 (랜드마크 8번)\n",
    "            cx, cy = int(index_finger_tip.x * w), int(index_finger_tip.y * h)\n",
    "            \n",
    "            # 검지가 화면 위쪽 1/3에 위치할 때 네모 그리기\n",
    "            if cy < h // 3:  # 화면 높이의 상단 1/3 기준\n",
    "                cv2.rectangle(frame, (50, 50), (150, 150), (0, 255, 0), -1)\n",
    "            \n",
    "            # 검지 위치 표시\n",
    "            cv2.putText(frame, f\"Index Finger: {cx}, {cy}\", (10, 30), cv2.FONT_HERSHEY_SIMPLEX, 0.7, (255, 255, 255), 2)\n",
    "    \n",
    "    # 영상 출력\n",
    "    cv2.imshow(\"Hand Tracking\", frame)\n",
    "    \n",
    "    # 'q' 키를 누르면 종료\n",
    "    if cv2.waitKey(1) & 0xFF == ord('q'):\n",
    "        break\n",
    "\n",
    "cap.release()\n",
    "cv2.destroyAllWindows()\n"
   ]
  }
 ],
 "metadata": {
  "kernelspec": {
   "display_name": "Python 3",
   "language": "python",
   "name": "python3"
  },
  "language_info": {
   "codemirror_mode": {
    "name": "ipython",
    "version": 3
   },
   "file_extension": ".py",
   "mimetype": "text/x-python",
   "name": "python",
   "nbconvert_exporter": "python",
   "pygments_lexer": "ipython3",
   "version": "3.11.9"
  }
 },
 "nbformat": 4,
 "nbformat_minor": 2
}
