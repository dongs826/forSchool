{
 "cells": [
  {
   "cell_type": "code",
   "execution_count": 1,
   "metadata": {},
   "outputs": [],
   "source": [
    "import cv2\n",
    "import numpy as np\n",
    "\n",
    "# 빈 캔버스 생성 (검정 배경)\n",
    "canvas = np.zeros((500, 500, 3), dtype=\"uint8\")\n",
    "\n",
    "# 사각형 그리기\n",
    "cv2.rectangle(canvas, (100, 100), (400, 400), (0, 255, 0), 3)\n",
    "\n",
    "# 원 그리기\n",
    "# 캠버스변수, \n",
    "cv2.circle(canvas, (250, 250), 100, (255, 0, 0), -1)\n",
    "\n",
    "# 텍스트 추가\n",
    "cv2.putText(canvas, \"OpenCV Shapes\", (50, 50), \n",
    "            cv2.FONT_HERSHEY_SIMPLEX, 1, (255, 255, 255), 2)\n",
    "\n",
    "# 결과 출력\n",
    "cv2.imshow(\"Drawing Shapes\", canvas)\n",
    "cv2.waitKey(0)\n",
    "cv2.destroyAllWindows()"
   ]
  }
 ],
 "metadata": {
  "kernelspec": {
   "display_name": "Python 3",
   "language": "python",
   "name": "python3"
  },
  "language_info": {
   "codemirror_mode": {
    "name": "ipython",
    "version": 3
   },
   "file_extension": ".py",
   "mimetype": "text/x-python",
   "name": "python",
   "nbconvert_exporter": "python",
   "pygments_lexer": "ipython3",
   "version": "3.11.9"
  }
 },
 "nbformat": 4,
 "nbformat_minor": 2
}
